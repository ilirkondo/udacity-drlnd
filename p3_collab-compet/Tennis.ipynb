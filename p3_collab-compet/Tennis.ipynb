{
 "cells": [
  {
   "cell_type": "markdown",
   "metadata": {},
   "source": [
    "# Collaboration and Competition\n",
    "\n",
    "---\n",
    "\n",
    "In this notebook, you will learn how to use the Unity ML-Agents environment for the third project of the [Deep Reinforcement Learning Nanodegree](https://www.udacity.com/course/deep-reinforcement-learning-nanodegree--nd893) program.\n",
    "\n",
    "### 1. Start the Environment\n",
    "\n",
    "We begin by importing the necessary packages.  If the code cell below returns an error, please revisit the project instructions to double-check that you have installed [Unity ML-Agents](https://github.com/Unity-Technologies/ml-agents/blob/master/docs/Installation.md) and [NumPy](http://www.numpy.org/)."
   ]
  },
  {
   "cell_type": "code",
   "execution_count": 1,
   "metadata": {},
   "outputs": [],
   "source": [
    "from unityagents import UnityEnvironment\n",
    "import numpy as np"
   ]
  },
  {
   "cell_type": "markdown",
   "metadata": {},
   "source": [
    "Next, we will start the environment!  **_Before running the code cell below_**, change the `file_name` parameter to match the location of the Unity environment that you downloaded.\n",
    "\n",
    "- **Mac**: `\"path/to/Tennis.app\"`\n",
    "- **Windows** (x86): `\"path/to/Tennis_Windows_x86/Tennis.exe\"`\n",
    "- **Windows** (x86_64): `\"path/to/Tennis_Windows_x86_64/Tennis.exe\"`\n",
    "- **Linux** (x86): `\"path/to/Tennis_Linux/Tennis.x86\"`\n",
    "- **Linux** (x86_64): `\"path/to/Tennis_Linux/Tennis.x86_64\"`\n",
    "- **Linux** (x86, headless): `\"path/to/Tennis_Linux_NoVis/Tennis.x86\"`\n",
    "- **Linux** (x86_64, headless): `\"path/to/Tennis_Linux_NoVis/Tennis.x86_64\"`\n",
    "\n",
    "For instance, if you are using a Mac, then you downloaded `Tennis.app`.  If this file is in the same folder as the notebook, then the line below should appear as follows:\n",
    "```\n",
    "env = UnityEnvironment(file_name=\"Tennis.app\")\n",
    "```"
   ]
  },
  {
   "cell_type": "code",
   "execution_count": 2,
   "metadata": {},
   "outputs": [
    {
     "name": "stderr",
     "output_type": "stream",
     "text": [
      "INFO:unityagents:\n",
      "'Academy' started successfully!\n",
      "Unity Academy name: Academy\n",
      "        Number of Brains: 1\n",
      "        Number of External Brains : 1\n",
      "        Lesson number : 0\n",
      "        Reset Parameters :\n",
      "\t\t\n",
      "Unity brain name: TennisBrain\n",
      "        Number of Visual Observations (per agent): 0\n",
      "        Vector Observation space type: continuous\n",
      "        Vector Observation space size (per agent): 8\n",
      "        Number of stacked Vector Observation: 3\n",
      "        Vector Action space type: continuous\n",
      "        Vector Action space size (per agent): 2\n",
      "        Vector Action descriptions: , \n"
     ]
    }
   ],
   "source": [
    "env = UnityEnvironment(file_name=\"./Tennis_Linux/Tennis.x86_64\")"
   ]
  },
  {
   "cell_type": "markdown",
   "metadata": {},
   "source": [
    "Environments contain **_brains_** which are responsible for deciding the actions of their associated agents. Here we check for the first brain available, and set it as the default brain we will be controlling from Python."
   ]
  },
  {
   "cell_type": "code",
   "execution_count": 3,
   "metadata": {},
   "outputs": [],
   "source": [
    "# get the default brain\n",
    "brain_name = env.brain_names[0]\n",
    "brain = env.brains[brain_name]"
   ]
  },
  {
   "cell_type": "markdown",
   "metadata": {},
   "source": [
    "### 2. Examine the State and Action Spaces\n",
    "\n",
    "In this environment, two agents control rackets to bounce a ball over a net. If an agent hits the ball over the net, it receives a reward of +0.1.  If an agent lets a ball hit the ground or hits the ball out of bounds, it receives a reward of -0.01.  Thus, the goal of each agent is to keep the ball in play.\n",
    "\n",
    "The observation space consists of 8 variables corresponding to the position and velocity of the ball and racket. Two continuous actions are available, corresponding to movement toward (or away from) the net, and jumping. \n",
    "\n",
    "Run the code cell below to print some information about the environment."
   ]
  },
  {
   "cell_type": "code",
   "execution_count": 4,
   "metadata": {},
   "outputs": [
    {
     "name": "stdout",
     "output_type": "stream",
     "text": [
      "Number of agents: 2\n",
      "Size of each action: 2\n",
      "There are 2 agents. Each observes a state with length: 24\n",
      "The state for the first agent looks like: [ 0.          0.          0.          0.          0.          0.\n",
      "  0.          0.          0.          0.          0.          0.\n",
      "  0.          0.          0.          0.         -6.65278625 -1.5\n",
      " -0.          0.          6.83172083  6.         -0.          0.        ]\n"
     ]
    }
   ],
   "source": [
    "# reset the environment\n",
    "env_info = env.reset(train_mode=True)[brain_name]\n",
    "\n",
    "# number of agents \n",
    "num_agents = len(env_info.agents)\n",
    "print('Number of agents:', num_agents)\n",
    "\n",
    "# size of each action\n",
    "action_size = brain.vector_action_space_size\n",
    "print('Size of each action:', action_size)\n",
    "\n",
    "# examine the state space \n",
    "states = env_info.vector_observations\n",
    "state_size = states.shape[1]\n",
    "print('There are {} agents. Each observes a state with length: {}'.format(states.shape[0], state_size))\n",
    "print('The state for the first agent looks like:', states[0])"
   ]
  },
  {
   "cell_type": "markdown",
   "metadata": {},
   "source": [
    "### 3. Take Random Actions in the Environment\n",
    "\n",
    "In the next code cell, you will learn how to use the Python API to control the agents and receive feedback from the environment.\n",
    "\n",
    "Once this cell is executed, you will watch the agents' performance, if they select actions at random with each time step.  A window should pop up that allows you to observe the agents.\n",
    "\n",
    "Of course, as part of the project, you'll have to change the code so that the agents are able to use their experiences to gradually choose better actions when interacting with the environment!"
   ]
  },
  {
   "cell_type": "code",
   "execution_count": 5,
   "metadata": {},
   "outputs": [
    {
     "name": "stdout",
     "output_type": "stream",
     "text": [
      "Score (max over agents) from episode 1: 0.10000000149011612\n",
      "Score (max over agents) from episode 2: 0.0\n",
      "Score (max over agents) from episode 3: 0.0\n",
      "Score (max over agents) from episode 4: 0.0\n",
      "Score (max over agents) from episode 5: 0.0\n"
     ]
    }
   ],
   "source": [
    "for i in range(1, 6):                                      # play game for 5 episodes\n",
    "    env_info = env.reset(train_mode=False)[brain_name]     # reset the environment    \n",
    "    states = env_info.vector_observations                  # get the current state (for each agent)\n",
    "    scores = np.zeros(num_agents)                          # initialize the score (for each agent)\n",
    "    while True:\n",
    "        actions = np.random.randn(num_agents, action_size) # select an action (for each agent)\n",
    "        actions = np.clip(actions, -1, 1)                  # all actions between -1 and 1\n",
    "        env_info = env.step(actions)[brain_name]           # send all actions to tne environment\n",
    "        next_states = env_info.vector_observations         # get next state (for each agent)\n",
    "        rewards = env_info.rewards                         # get reward (for each agent)\n",
    "        dones = env_info.local_done                        # see if episode finished\n",
    "        scores += env_info.rewards                         # update the score (for each agent)\n",
    "        states = next_states                               # roll over states to next time step\n",
    "        if np.any(dones):                                  # exit loop if episode finished\n",
    "            break\n",
    "    print('Score (max over agents) from episode {}: {}'.format(i, np.max(scores)))"
   ]
  },
  {
   "cell_type": "markdown",
   "metadata": {},
   "source": [
    "### 4. Train Multi-Agent\n",
    "You can watch the Agent's gradual performance improvement directly in the Unity Environment UI:\n",
    "![The Agent during training](./pics/tennis-training.png)\n",
    "The play duration will get longer as the agent improves, and hence the training process will garudally slow down."
   ]
  },
  {
   "cell_type": "code",
   "execution_count": 6,
   "metadata": {},
   "outputs": [
    {
     "name": "stdout",
     "output_type": "stream",
     "text": [
      "Episode 100\tAverage Score: -0.003500\n",
      "Episode 200\tAverage Score: -0.005000\n",
      "Episode 300\tAverage Score: 0.024000\n",
      "Episode 400\tAverage Score: 0.011000\n",
      "Episode 500\tAverage Score: 0.014500\n",
      "Episode 600\tAverage Score: 0.017000\n",
      "Episode 700\tAverage Score: 0.040000\n",
      "Episode 800\tAverage Score: 0.016450\n",
      "Episode 900\tAverage Score: -0.005000\n",
      "Episode 1000\tAverage Score: -0.005000\n",
      "Episode 1100\tAverage Score: 0.001500\n",
      "Episode 1200\tAverage Score: 0.090050\n",
      "Episode 1300\tAverage Score: 1.138500\n",
      "Episode 1400\tAverage Score: 1.605950\n",
      "Episode 1500\tAverage Score: 1.954000\n",
      "Episode 1600\tAverage Score: 1.874000\n",
      "Episode 1700\tAverage Score: 0.896550\n",
      "Episode 1800\tAverage Score: 1.361200\n",
      "Episode 1900\tAverage Score: 1.931300\n",
      "Episode 2000\tAverage Score: 1.875850\n",
      "Episode 2100\tAverage Score: 2.242100\n",
      "Episode 2200\tAverage Score: 0.995150\n",
      "Episode 2300\tAverage Score: 0.930950\n",
      "Episode 2400\tAverage Score: 1.996400\n",
      "Episode 2500\tAverage Score: 1.960550\n",
      "Episode 2600\tAverage Score: 1.864150\n",
      "Episode 2700\tAverage Score: 1.276100\n",
      "Episode 2800\tAverage Score: 1.837500\n",
      "Episode 2900\tAverage Score: 1.994200\n",
      "Episode 3000\tAverage Score: 1.609800\n"
     ]
    },
    {
     "data": {
      "image/png": "[encoded data removed]",
      "text/plain": [
       "<Figure size 432x288 with 1 Axes>"
      ]
     },
     "metadata": {
      "needs_background": "light"
     },
     "output_type": "display_data"
    }
   ],
   "source": [
    "from agent import MADDPGAgent\n",
    "\n",
    "agent = MADDPGAgent(state_size=24, action_size=2, n_agnets=2, random_seed=0)\n",
    "scores, avg_scores = agent.train(env=env, n_episodes=3000)\n",
    "\n",
    "agent.plot(scores, avg_scores)"
   ]
  },
  {
   "cell_type": "markdown",
   "metadata": {},
   "source": [
    "### 5. Test the Trained Multi-Agent"
   ]
  },
  {
   "cell_type": "code",
   "execution_count": 7,
   "metadata": {},
   "outputs": [],
   "source": [
    "import torch\n",
    "agent.actor_local.load_state_dict(torch.load('checkpoint_actor.pth', map_location=lambda storage, loc: storage))"
   ]
  },
  {
   "cell_type": "code",
   "execution_count": 8,
   "metadata": {},
   "outputs": [
    {
     "name": "stdout",
     "output_type": "stream",
     "text": [
      "Score (max over agents) from episode 1: 0.0\n",
      "Score (max over agents) from episode 2: 0.0\n",
      "Score (max over agents) from episode 3: 0.0\n",
      "Score (max over agents) from episode 4: 0.0\n",
      "Score (max over agents) from episode 5: 0.09000000171363354\n",
      "Score (max over agents) from episode 6: 0.0\n",
      "Score (max over agents) from episode 7: 0.0\n",
      "Score (max over agents) from episode 8: 0.10000000149011612\n",
      "Score (max over agents) from episode 9: 0.0\n",
      "Score (max over agents) from episode 10: 0.0\n",
      "Score (max over agents) from episode 11: 0.0\n",
      "Score (max over agents) from episode 12: 0.0\n",
      "Score (max over agents) from episode 13: 0.0\n",
      "Score (max over agents) from episode 14: 0.0\n",
      "Score (max over agents) from episode 15: 0.0\n",
      "Score (max over agents) from episode 16: 0.09000000171363354\n",
      "Score (max over agents) from episode 17: 0.0\n",
      "Score (max over agents) from episode 18: 0.0\n",
      "Score (max over agents) from episode 19: 0.0\n",
      "Score (max over agents) from episode 20: 0.0\n",
      "Score (max over agents) from episode 21: 0.10000000149011612\n",
      "Score (max over agents) from episode 22: 0.0\n",
      "Score (max over agents) from episode 23: 0.0\n",
      "Score (max over agents) from episode 24: 0.0\n",
      "Score (max over agents) from episode 25: 0.0\n",
      "Score (max over agents) from episode 26: 0.0\n",
      "Score (max over agents) from episode 27: 0.0\n",
      "Score (max over agents) from episode 28: 0.10000000149011612\n",
      "Score (max over agents) from episode 29: 0.0\n",
      "Score (max over agents) from episode 30: 0.0\n",
      "Score (max over agents) from episode 31: 0.0\n",
      "Score (max over agents) from episode 32: 0.0\n",
      "Score (max over agents) from episode 33: 0.0\n",
      "Score (max over agents) from episode 34: 0.0\n",
      "Score (max over agents) from episode 35: 0.10000000149011612\n",
      "Score (max over agents) from episode 36: 0.0\n",
      "Score (max over agents) from episode 37: 0.0\n",
      "Score (max over agents) from episode 38: 0.0\n",
      "Score (max over agents) from episode 39: 0.0\n",
      "Score (max over agents) from episode 40: 0.0\n",
      "Score (max over agents) from episode 41: 0.0\n",
      "Score (max over agents) from episode 42: 0.09000000171363354\n",
      "Score (max over agents) from episode 43: 0.0\n",
      "Score (max over agents) from episode 44: 0.0\n",
      "Score (max over agents) from episode 45: 0.0\n",
      "Score (max over agents) from episode 46: 0.0\n",
      "Score (max over agents) from episode 47: 0.0\n",
      "Score (max over agents) from episode 48: 0.0\n",
      "Score (max over agents) from episode 49: 0.10000000149011612\n",
      "Score (max over agents) from episode 50: 0.10000000149011612\n",
      "Score (max over agents) from episode 51: 0.0\n",
      "Score (max over agents) from episode 52: 0.10000000149011612\n",
      "Score (max over agents) from episode 53: 0.0\n",
      "Score (max over agents) from episode 54: 0.10000000149011612\n",
      "Score (max over agents) from episode 55: 0.0\n",
      "Score (max over agents) from episode 56: 0.0\n",
      "Score (max over agents) from episode 57: 0.0\n",
      "Score (max over agents) from episode 58: 0.0\n",
      "Score (max over agents) from episode 59: 0.0\n",
      "Score (max over agents) from episode 60: 0.0\n",
      "Score (max over agents) from episode 61: 0.10000000149011612\n",
      "Score (max over agents) from episode 62: 0.0\n",
      "Score (max over agents) from episode 63: 0.10000000149011612\n",
      "Score (max over agents) from episode 64: 0.0\n",
      "Score (max over agents) from episode 65: 0.0\n",
      "Score (max over agents) from episode 66: 0.0\n",
      "Score (max over agents) from episode 67: 0.10000000149011612\n",
      "Score (max over agents) from episode 68: 0.0\n",
      "Score (max over agents) from episode 69: 0.0\n",
      "Score (max over agents) from episode 70: 0.0\n",
      "Score (max over agents) from episode 71: 0.0\n",
      "Score (max over agents) from episode 72: 0.10000000149011612\n",
      "Score (max over agents) from episode 73: 0.0\n",
      "Score (max over agents) from episode 74: 0.10000000149011612\n",
      "Score (max over agents) from episode 75: 0.0\n",
      "Score (max over agents) from episode 76: 0.0\n",
      "Score (max over agents) from episode 77: 0.0\n",
      "Score (max over agents) from episode 78: 0.0\n",
      "Score (max over agents) from episode 79: 0.0\n",
      "Score (max over agents) from episode 80: 0.0\n",
      "Score (max over agents) from episode 81: 0.0\n",
      "Score (max over agents) from episode 82: 0.0\n",
      "Score (max over agents) from episode 83: 0.09000000171363354\n",
      "Score (max over agents) from episode 84: 0.0\n",
      "Score (max over agents) from episode 85: 0.10000000149011612\n",
      "Score (max over agents) from episode 86: 0.0\n",
      "Score (max over agents) from episode 87: 0.0\n",
      "Score (max over agents) from episode 88: 0.0\n",
      "Score (max over agents) from episode 89: 0.0\n",
      "Score (max over agents) from episode 90: 0.0\n",
      "Score (max over agents) from episode 91: 0.0\n",
      "Score (max over agents) from episode 92: 0.0\n",
      "Score (max over agents) from episode 93: 0.0\n",
      "Score (max over agents) from episode 94: 0.10000000149011612\n",
      "Score (max over agents) from episode 95: 0.0\n",
      "Score (max over agents) from episode 96: 0.0\n",
      "Score (max over agents) from episode 97: 0.0\n",
      "Score (max over agents) from episode 98: 0.0\n",
      "Score (max over agents) from episode 99: 0.0\n"
     ]
    }
   ],
   "source": [
    "for i in range(1, 100):                                    # play game for 100 episodes\n",
    "    env_info = env.reset(train_mode=False)[brain_name]     # reset the environment    \n",
    "    states = env_info.vector_observations                  # get the current state (for each agent)\n",
    "    scores = np.zeros(num_agents)                          # initialize the score (for each agent)\n",
    "    while True:\n",
    "        actions = np.random.randn(num_agents, action_size) # select an action (for each agent)\n",
    "        actions = np.clip(actions, -1, 1)                  # all actions between -1 and 1\n",
    "        env_info = env.step(actions)[brain_name]           # send all actions to tne environment\n",
    "        next_states = env_info.vector_observations         # get next state (for each agent)\n",
    "        rewards = env_info.rewards                         # get reward (for each agent)\n",
    "        dones = env_info.local_done                        # see if episode finished\n",
    "        scores += env_info.rewards                         # update the score (for each agent)\n",
    "        states = next_states                               # roll over states to next time step\n",
    "        if np.any(dones):                                  # exit loop if episode finished\n",
    "            break\n",
    "    print('Score (max over agents) from episode {}: {}'.format(i, np.max(scores)))"
   ]
  },
  {
   "cell_type": "code",
   "execution_count": 9,
   "metadata": {},
   "outputs": [],
   "source": [
    "env.close()"
   ]
  }
 ],
 "metadata": {
  "kernelspec": {
   "display_name": "drlnd",
   "language": "python",
   "name": "drlnd"
  },
  "language_info": {
   "codemirror_mode": {
    "name": "ipython",
    "version": 3
   },
   "file_extension": ".py",
   "mimetype": "text/x-python",
   "name": "python",
   "nbconvert_exporter": "python",
   "pygments_lexer": "ipython3",
   "version": "3.6.10"
  }
 },
 "nbformat": 4,
 "nbformat_minor": 2
}
